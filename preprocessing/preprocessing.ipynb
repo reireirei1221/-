{
 "cells": [
  {
   "cell_type": "markdown",
   "metadata": {},
   "source": [
    "## 前処理 (202113_CSVの中のcsvファイルを、ソートした上で一つにまとめ、total2.csvというファイルに書き出す)"
   ]
  },
  {
   "cell_type": "markdown",
   "metadata": {},
   "source": [
    "## ライブラリをimportする"
   ]
  },
  {
   "cell_type": "code",
   "execution_count": 1,
   "metadata": {},
   "outputs": [],
   "source": [
    "import pandas as pd\n",
    "import glob\n",
    "import numpy as np"
   ]
  },
  {
   "cell_type": "markdown",
   "metadata": {},
   "source": [
    "## 202113_CSVの中のcsvファイルを、total.csvという一つのファイルにまとめる"
   ]
  },
  {
   "cell_type": "code",
   "execution_count": 2,
   "metadata": {},
   "outputs": [],
   "source": [
    "csv_files = glob.glob('NOV_CSV/*.csv')\n",
    "\n",
    "#csvファイルの中身を追加していくリストを用意\n",
    "data_list = []\n",
    "\n",
    "#読み込むファイルのリストを走査\n",
    "for file in csv_files:\n",
    "\tx = pd.read_csv(file, encoding=\"shift-jis\")\n",
    "\tif len(x.columns) == 14:\n",
    "\t\tdata_list.append(pd.read_csv(file, encoding=\"shift-jis\"))\n",
    "\n",
    "#リストを全て行方向に結合\n",
    "#axis=0:行方向に結合, sort\n",
    "df = pd.concat(data_list, axis=0)\n",
    "\n",
    "rm_list = [\"野菜総量\", \"その他の菜類\", \"その他の野菜\",\n",
    "           \"輸入野菜計\", \"他の輸入野菜\", \"果実総量\", \"国産果実総量\", \n",
    "           \"その他雑かん\", \"りんご計\", \"その他りんご\", \"日本なし計\",\n",
    "           \"その他なし\", \"かき計\", \"ぶどう計\", \"その他ぶどう\", \"メロン計\",\n",
    "           \"その他メロン\", \"他の国産果実\", \"輸入果実計\", \"他の輸入果実\"]\n",
    "\n",
    "for n in rm_list:\n",
    "\tdf = df[df[\"品目名\"] != n]\n",
    "\n",
    "df.to_csv(\"NOV_TOTAL_CSV/nov_total.csv\", index=False)\n"
   ]
  },
  {
   "cell_type": "markdown",
   "metadata": {},
   "source": [
    "## total.csvの中身をソートし、total2.csvとして書き出す"
   ]
  },
  {
   "cell_type": "code",
   "execution_count": 5,
   "metadata": {},
   "outputs": [
    {
     "name": "stderr",
     "output_type": "stream",
     "text": [
      "/Users/sawanorei/opt/anaconda3/envs/titanic/lib/python3.8/site-packages/IPython/core/interactiveshell.py:3165: DtypeWarning: Columns (11) have mixed types.Specify dtype option on import or set low_memory=False.\n",
      "  has_raised = await self.run_ast_nodes(code_ast.body, cell_name,\n"
     ]
    }
   ],
   "source": [
    "df = pd.read_csv('NOV_TOTAL_CSV/nov_total.csv')\n",
    "df = df.loc[:, [\"年\", \"月\", \"日\", \"品目コード\", \"品目名\", \"都市コード\", \"都市名\", \"産地名\", \"価格\"]]\n",
    "# df = df.rename(columns={'対前日比（価格)':'価格'})\n",
    "df = df.fillna('missing')\n",
    "df = df[df[\"産地名\"] == 'missing']\n",
    "df = df.drop('産地名', axis=1)\n",
    "df = df.dropna(how='any', axis=0)\n",
    "df = df[df[\"品目名\"] != \"　　うち輸入\"]\n",
    "# df = df[df[\"対前日比（価格）\"] != '−']\n",
    "df = df[df[\"価格\"] != '−']\n",
    "df['key'] = df[\"日\"] + 1000*df[\"月\"] + 1000000*df[\"年\"] + 1000000000*df['都市コード'] + 1000000000000*df['品目コード']\n",
    "df = df.sort_values(by=\"key\")\n",
    "df = df.drop('key', axis=1)\n",
    "df.loc[df['都市コード'] == 401, '都市コード'] = '0401'\n",
    "df.to_csv(\"NOV_TOTAL_CSV/nov_total2.csv\", index=False)\n"
   ]
  },
  {
   "cell_type": "code",
   "execution_count": 6,
   "metadata": {},
   "outputs": [
    {
     "name": "stderr",
     "output_type": "stream",
     "text": [
      "/Users/sawanorei/opt/anaconda3/envs/titanic/lib/python3.8/site-packages/IPython/core/interactiveshell.py:3165: DtypeWarning: Columns (11) have mixed types.Specify dtype option on import or set low_memory=False.\n",
      "  has_raised = await self.run_ast_nodes(code_ast.body, cell_name,\n"
     ]
    }
   ],
   "source": [
    "df = pd.read_csv('NOV_TOTAL_CSV/nov_total.csv')\n",
    "df = df.loc[:, [\"年\", \"月\", \"日\", \"品目コード\", \"品目名\", \"都市コード\", \"都市名\", \"産地名\", \"価格\"]]\n",
    "# df = df.rename(columns={'対前日比（価格)':'価格'})\n",
    "df = df.fillna('missing')\n",
    "df = df[df[\"産地名\"] == 'missing']\n",
    "df = df.drop('産地名', axis=1)\n",
    "df = df.dropna(how='any', axis=0)\n",
    "df = df[df[\"品目名\"] != \"　　うち輸入\"]\n",
    "# df = df[df[\"対前日比（価格）\"] != '−']\n",
    "df = df[df[\"価格\"] != '−']\n",
    "df = df[df[\"価格\"] != '…']\n",
    "df['key'] = df[\"都市コード\"] + 100000*df[\"日\"] + 100000000*df[\"月\"] + \\\n",
    "    100000000000*df['年'] + 100000000000000*df['品目コード']\n",
    "df = df.sort_values(by=\"key\")\n",
    "df = df.drop('key', axis=1)\n",
    "df.loc[df['都市コード'] == 401, '都市コード'] = '0401'\n",
    "\n",
    "i = 0\n",
    "for index, data in df.iterrows():\n",
    "    df.at[df.index[i], '価格'] = str(df.at[df.index[i], '価格']) + '.0'\n",
    "    i += 1\n",
    "df.to_csv(\"NOV_TOTAL_CSV/nov_total3.csv\", index=False)\n"
   ]
  },
  {
   "cell_type": "markdown",
   "metadata": {},
   "source": [
    "## 日毎の平均を算出する"
   ]
  },
  {
   "cell_type": "code",
   "execution_count": 8,
   "metadata": {},
   "outputs": [],
   "source": [
    "df = pd.read_csv('NOV_TOTAL_CSV/nov_total3.csv')\n",
    "\n",
    "product = df.at[df.index[0], '品目名']\n",
    "\n",
    "sum = 0\n",
    "sum_list = []\n",
    "num = 0\n",
    "day = df.at[df.index[0], '日']\n",
    "month = df.at[df.index[0], '月']\n",
    "year = df.at[df.index[0], '年']\n",
    "\n",
    "df['key'] = 0\n",
    "\n",
    "for index, data in df.iterrows():\n",
    "\tif product != data[\"品目名\"] or day != data[\"日\"] or month != data[\"月\"] or year != data[\"年\"]:\n",
    "\t\tproduct = data[\"品目名\"]\n",
    "\t\tday = data[\"日\"]\n",
    "\t\tmonth = data[\"月\"]\n",
    "\t\tyear = data[\"年\"]\n",
    "\t\tsum_list.append(sum/num)\n",
    "\t\tsum = 0\n",
    "\t\tnum = 0\n",
    "\n",
    "\t# print(float(data[\"価格\"]))\n",
    "\t# print(data[\"価格\"])\n",
    "\tnum += 1\n",
    "\tsum += float(data[\"価格\"])\n",
    "\n",
    "sum_list.append(sum/num)\n",
    "\n",
    "product = 0\n",
    "num = 0\n",
    "day = 0\n",
    "month = 0\n",
    "year = 0\n",
    "\n",
    "for index, data in df.iterrows():\n",
    "\tif product != data[\"品目名\"] or day != data[\"日\"] or month != data[\"月\"] or year != data[\"年\"]:\n",
    "\t\tproduct = data[\"品目名\"]\n",
    "\t\tday = data[\"日\"]\n",
    "\t\tmonth = data[\"月\"]\n",
    "\t\tyear = data[\"年\"]\n",
    "\t\tdf.at[df.index[index], '価格'] = sum_list[num]\n",
    "\t\tdf.at[df.index[index], 'key'] = 1\n",
    "\t\tnum += 1\n",
    "\n",
    "for index, data in df.iterrows():\n",
    "\tdf.at[df.index[index], '文字数'] = int(len(df.at[df.index[index], '品目名']))\n",
    "\n",
    "df = df[df[\"key\"] == 1]\n",
    "\n",
    "df = df.drop('key', axis=1)\n",
    "\n",
    "df = df.drop('都市名', axis=1)\n",
    "\n",
    "df = df.drop('都市コード', axis=1)\n",
    "\n",
    "df.to_csv(\"NOV_TOTAL_CSV/nov_total4.csv\", index=False)\n"
   ]
  },
  {
   "cell_type": "markdown",
   "metadata": {},
   "source": [
    "## 1週間の平均を算出し、最終日との比を計算する"
   ]
  },
  {
   "cell_type": "code",
   "execution_count": 17,
   "metadata": {},
   "outputs": [],
   "source": [
    "df = pd.read_csv('NOV_TOTAL_CSV/nov_total4.csv')\n",
    "\n",
    "product = df.at[df.index[0], '品目名']\n",
    "\n",
    "sum = 0\n",
    "sum_list = []\n",
    "num = 0\n",
    "\n",
    "df['key'] = -100000*df[\"日\"] - 100000000*df[\"月\"] - \\\n",
    "    100000000000*df['年'] + 100000000000000*df['品目コード']\n",
    "\n",
    "df = df.sort_values(by=\"key\")\n",
    "\n",
    "#print(df)\n",
    "\n",
    "df['key2'] = 0\n",
    "\n",
    "for index, data in df.iterrows():\n",
    "\tif product != data[\"品目名\"]:\n",
    "\t\tproduct = data[\"品目名\"]\n",
    "\t\tsum_list.append(sum/num)\n",
    "\t\tsum = 0\n",
    "\t\tnum = 0\n",
    "\n",
    "\tnum += 1\n",
    "\tsum += float(data[\"価格\"])\n",
    "\n",
    "sum_list.append(sum/num)\n",
    "\n",
    "product = 0\n",
    "num = 0\n",
    "i = 0\n",
    "\n",
    "for index, data in df.iterrows():\n",
    "\tif product != data[\"品目名\"]:\n",
    "\t\tproduct = data[\"品目名\"]\n",
    "\t\tdf.at[df.index[i], '価格'] = df.at[df.index[i], '価格']/sum_list[num]\n",
    "\t\tdf.at[df.index[i], 'key2'] = 1\n",
    "\t\tnum += 1\n",
    "\ti += 1\n",
    "\n",
    "df = df[df[\"key2\"] == 1]\n",
    "\n",
    "df = df.drop('key', axis=1)\n",
    "df = df.drop('key2', axis=1)\n",
    "\n",
    "df.to_csv(\"NOV_TOTAL_CSV/nov_total5.csv\", index=False)\n",
    "\n",
    "# df.to_csv(\"total3.csv\", index=False)\n"
   ]
  },
  {
   "cell_type": "markdown",
   "metadata": {},
   "source": [
    "## 食材のリスト作る"
   ]
  },
  {
   "cell_type": "code",
   "execution_count": 18,
   "metadata": {},
   "outputs": [],
   "source": [
    "df = pd.read_csv('NOV_TOTAL_CSV/nov_total5.csv')\n",
    "\n",
    "df['value'] = df['品目コード']\n",
    "df['label'] = df['品目名']\n",
    "\n",
    "df = df.drop('年', axis=1)\n",
    "df = df.drop('月', axis=1)\n",
    "df = df.drop('価格', axis=1)\n",
    "df = df.drop('文字数', axis=1)\n",
    "df = df.drop('日', axis=1)\n",
    "df = df.drop('品目コード', axis=1)\n",
    "df = df.drop('品目名', axis=1)\n",
    "\n",
    "df.to_csv(\"NOV_TOTAL_CSV/nov_total6.csv\", index=False)\n"
   ]
  },
  {
   "cell_type": "markdown",
   "metadata": {},
   "source": [
    "## 食材の種類を指定する"
   ]
  },
  {
   "cell_type": "code",
   "execution_count": 26,
   "metadata": {},
   "outputs": [],
   "source": [
    "df1 = pd.read_csv('NOV_TOTAL_CSV/nov_total5.csv')\n",
    "df2 = pd.read_csv('NOV_TOTAL_CSV/class.csv')\n",
    "\n",
    "df1[\"種類\"] = df2[\"class\"]\n",
    "\n",
    "# for index, data in df.iterrows():\n",
    "# \tdf1.at[df1.index[index], '種類'] = df2.at[df2.index[index], 'class']\n",
    "\n",
    "df1.to_csv(\"NOV_TOTAL_CSV/nov_total5.csv\", index=False)\n"
   ]
  }
 ],
 "metadata": {
  "kernelspec": {
   "display_name": "Python 3.8.8 64-bit ('titanic': conda)",
   "metadata": {
    "interpreter": {
     "hash": "ecbaff38a920a9961cc94e994821d74e30e46b8094f5607d20e9ba8b192b7df5"
    }
   },
   "name": "python3"
  },
  "language_info": {
   "codemirror_mode": {
    "name": "ipython",
    "version": 3
   },
   "file_extension": ".py",
   "mimetype": "text/x-python",
   "name": "python",
   "nbconvert_exporter": "python",
   "pygments_lexer": "ipython3",
   "version": "3.8.8"
  },
  "orig_nbformat": 2
 },
 "nbformat": 4,
 "nbformat_minor": 2
}